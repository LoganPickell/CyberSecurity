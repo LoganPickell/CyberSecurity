{
  "nbformat": 4,
  "nbformat_minor": 0,
  "metadata": {
    "colab": {
      "provenance": []
    },
    "kernelspec": {
      "name": "python3",
      "display_name": "Python 3"
    },
    "language_info": {
      "name": "python"
    }
  },
  "cells": [
    {
      "cell_type": "markdown",
      "source": [
        "##1\n",
        "\n",
        "A) In RSA Given n= 221 and e=5, find d."
      ],
      "metadata": {
        "id": "dqLMkoWkY8kN"
      }
    },
    {
      "cell_type": "code",
      "source": [
        "import math\n",
        "\n",
        "def is_prime(num):\n",
        "    \"\"\"Check if a number is prime.\"\"\"\n",
        "    if num < 2:\n",
        "        return False\n",
        "    for i in range(2, int(num**0.5) + 1):\n",
        "        if num % i == 0:\n",
        "            return False\n",
        "    return True\n",
        "\n",
        "\n",
        "\n",
        "def find_prime_factors(n):\n",
        "  \"\"\"Find two prime factors of n\"\"\"\n",
        "  for i in range(2, int(math.sqrt(n)) + 1):\n",
        "        if n % i == 0:\n",
        "            p = i\n",
        "            q = n // i\n",
        "            return p, q\n",
        "  return None, None\n",
        "\n",
        "\n",
        "# Function to find modular inverse of e mod phi_n\n",
        "def modular_inverse(e, phi):\n",
        "  return pow(e, -1, phi)"
      ],
      "metadata": {
        "id": "O29-_38wlUY_"
      },
      "execution_count": null,
      "outputs": []
    },
    {
      "cell_type": "code",
      "source": [
        "n = 12091\n",
        "e = 13\n",
        "\n",
        "p, q = find_prime_factors(n)\n",
        "\n",
        "if p and q:\n",
        "    print(f\"Found prime factors: p = {p}, q = {q}\")\n",
        "    # Calculate φ(n)\n",
        "    phi_n = (p - 1) * (q - 1)\n",
        "    print(f\"Phi_n= {phi_n}\")\n",
        "    d = modular_inverse(e, phi_n)\n",
        "    print(f\"d = {d}\")\n",
        "elif is_prime(n):\n",
        "    print(f\"{n} is a prime number.\")\n",
        "    # If n is a prime number, φ(n) = n - 1\n",
        "    phi_n = n - 1\n",
        "    d = modular_inverse(e, phi_n)\n",
        "    print(f\"φ(n) = {phi_n}, d = {d}\")\n",
        "else:\n",
        "    print(\"Prime factors not found.\")"
      ],
      "metadata": {
        "colab": {
          "base_uri": "https://localhost:8080/"
        },
        "id": "Q3lW3Tl8kxU-",
        "outputId": "4e9097ef-d072-4238-d0d0-3a88617a36ee"
      },
      "execution_count": null,
      "outputs": [
        {
          "output_type": "stream",
          "name": "stdout",
          "text": [
            "Found prime factors: p = 107, q = 113\n",
            "Phi_n= 11872\n",
            "d = 3653\n"
          ]
        }
      ]
    },
    {
      "cell_type": "markdown",
      "source": [
        "B)\n",
        "In RSA, encrypt the message “HOW ARE YOU” using 00 to 25 for letters A to Z and 26 for the space. Use different blocks to make P < n.\n"
      ],
      "metadata": {
        "id": "E33W-ByPrccK"
      }
    },
    {
      "cell_type": "code",
      "source": [
        "import string\n",
        "\n",
        "# Set up map for 0=a, 1=b....25=z, 26 = ' '\n",
        "alphabet_map = {letter: index for index, letter in enumerate(string.ascii_lowercase)}\n",
        "alphabet_map[' '] = 26\n",
        "# Reverse map to decrypt\n",
        "alphabet_reverse_map = {index: letter for letter, index in alphabet_map.items()}"
      ],
      "metadata": {
        "id": "YG7bYJAjY8cL"
      },
      "execution_count": null,
      "outputs": []
    },
    {
      "cell_type": "code",
      "source": [
        "message = \"crypto\""
      ],
      "metadata": {
        "id": "8BfCi7hWegpU"
      },
      "execution_count": null,
      "outputs": []
    },
    {
      "cell_type": "code",
      "execution_count": null,
      "metadata": {
        "colab": {
          "base_uri": "https://localhost:8080/"
        },
        "id": "LkCVVxZqYGOd",
        "outputId": "6684faad-ddc1-4e6a-f136-12be8a1aa29e"
      },
      "outputs": [
        {
          "output_type": "stream",
          "name": "stdout",
          "text": [
            "[2, 17, 24, 15, 19, 14]\n",
            "Ciphertext:  [8192, 9245, 2344, 7134, 10358, 2946]\n"
          ]
        }
      ],
      "source": [
        "coded_message = []\n",
        "\n",
        "for char in message:\n",
        "    code = alphabet_map[char]\n",
        "    coded_message.append(code)\n",
        "\n",
        "print(coded_message)\n",
        "\n",
        "ciphertext = [(code**e) % n for code in coded_message]\n",
        "\n",
        "print(\"Ciphertext: \", ciphertext)"
      ]
    },
    {
      "cell_type": "code",
      "source": [
        "c1 = 8192**d % n\n",
        "c2 = 9245**d % n\n",
        "\n",
        "print(c1, c2)"
      ],
      "metadata": {
        "colab": {
          "base_uri": "https://localhost:8080/"
        },
        "id": "eFj-5D1NmBsd",
        "outputId": "cdbd417f-c1f5-4bf0-8545-32f90b868e68"
      },
      "execution_count": null,
      "outputs": [
        {
          "output_type": "stream",
          "name": "stdout",
          "text": [
            "2 17\n"
          ]
        }
      ]
    },
    {
      "cell_type": "markdown",
      "source": [
        "##2\n",
        "\n",
        "In ElGamal, given the prime p = 31:\n",
        "\n",
        "a. Choose an appropriate e1 and d, then calculate e2.\n",
        "\n",
        "b. Encrypt the message “HELLO”; use 00 to 25 for encoding. Use different blocks to make P < p.\n",
        "\n",
        "c. Decrypt the ciphertext to obtain the plaintext.\n",
        "\n"
      ],
      "metadata": {
        "id": "177UY_Br_XUD"
      }
    },
    {
      "cell_type": "code",
      "source": [
        "import random\n",
        "\n",
        "message = \"hello\"\n",
        "\n",
        "\n",
        "def elgamal_encrypt(block, e1, e2, p):\n",
        "    r = random.randint(1, p - 2)      # Choose a random r < p\n",
        "    c1 = pow(e1, r, p)                # c1 = e1^r % p\n",
        "    c2 = (block * pow(e2, r)) % p     # c2 = (P * e2^r) % p\n",
        "    return c1, c2\n",
        "\n",
        "\n",
        "def elgamal_decrypt(c1, c2, d, p):\n",
        "    s = pow(c1, d, p)              # s = c1^d % p\n",
        "    s_inv = pow(s, p - 2, p)       # Modular inverse of s under modulo p\n",
        "    plaintext = (c2 * s_inv) % p   # P = (c2 * s^-1) % p\n",
        "    return plaintext"
      ],
      "metadata": {
        "id": "9cPYWIzLs8PK"
      },
      "execution_count": null,
      "outputs": []
    },
    {
      "cell_type": "code",
      "source": [
        "p = 31\n",
        "e1 = 3\n",
        "d = 2               # Private key\n",
        "e2 = pow(e1, d, p)  # Public key calculated as e2 = e1^d % p\n",
        "\n",
        "print(f\"Public Key: (p = {p}, e1 = {e1}, e2 = {e2})\")\n",
        "print(f\"Private Key: d = {d}\")\n",
        "\n",
        "encoded_message = [alphabet_map[char] for char in message]\n",
        "\n",
        "print(f\"Encoded message: {encoded_message}\")\n",
        "\n",
        "\n",
        "ciphertext = [elgamal_encrypt(block, e1, e2, p) for block in encoded_message]\n",
        "\n",
        "print(\"Ciphertext (c1, c2) pairs:\")\n",
        "for c in ciphertext:\n",
        "    print(c)"
      ],
      "metadata": {
        "colab": {
          "base_uri": "https://localhost:8080/"
        },
        "id": "jOYMggiIs_EI",
        "outputId": "06386493-7893-41d2-a3c2-33800d072886"
      },
      "execution_count": null,
      "outputs": [
        {
          "output_type": "stream",
          "name": "stdout",
          "text": [
            "Public Key: (p = 31, e1 = 3, e2 = 9)\n",
            "Private Key: d = 2\n",
            "Encoded message: [7, 4, 11, 11, 14]\n",
            "Ciphertext (c1, c2) pairs:\n",
            "(10, 18)\n",
            "(20, 19)\n",
            "(12, 3)\n",
            "(6, 24)\n",
            "(15, 19)\n"
          ]
        }
      ]
    },
    {
      "cell_type": "code",
      "source": [
        "decrypted_message = [elgamal_decrypt(c1, c2, d, p) for c1, c2 in ciphertext]\n",
        "\n",
        "# Convert back to letters\n",
        "decoded_message = ''.join(alphabet_reverse_map[block] for block in decrypted_message)\n",
        "\n",
        "print(f\"Decrypted message: {decoded_message}\")\n"
      ],
      "metadata": {
        "colab": {
          "base_uri": "https://localhost:8080/"
        },
        "id": "myAtAGPWxbXS",
        "outputId": "12bc6d36-ecb8-4fbb-e2ae-e625c5a4eeca"
      },
      "execution_count": null,
      "outputs": [
        {
          "output_type": "stream",
          "name": "stdout",
          "text": [
            "Decrypted message: hello\n"
          ]
        }
      ]
    },
    {
      "cell_type": "markdown",
      "source": [
        "##3\n",
        "An elliptic curve over E67(2, 3) as the elliptic curve (y^2 = x^3 + 2x + 3)\n",
        "Bob selects e1 = (2, 22) and d = 4.\n",
        "\n",
        "\n",
        "Alice wants to send the plaintext P = (24, 26) to Bob. She selects r = 2.\n",
        "\n",
        "\n",
        "Write an algorithm to add two points for Alice to produce the ciphertext to send to Bob, and, algorithm for Bob to decrypt the message."
      ],
      "metadata": {
        "id": "uoJDa9QkvL3r"
      }
    },
    {
      "cell_type": "code",
      "source": [
        "def mod_inverse(a, p):\n",
        "    \"\"\"Calculate the modular inverse of a under modulo p.\"\"\"\n",
        "    return pow(a, p - 2, p)\n",
        "\n",
        "def point_addition(P, Q, a, p):\n",
        "    \"\"\"Add two points P and Q on an elliptic curve y^2 = x^3 + ax + b over F_p.\"\"\"\n",
        "    if P == Q:\n",
        "        # Point doubling\n",
        "        numerator = (3 * P[0]**2 + a) % p\n",
        "        denominator = (2 * P[1]) % p\n",
        "    else:\n",
        "        # Point addition\n",
        "        numerator = (Q[1] - P[1]) % p\n",
        "        denominator = (Q[0] - P[0]) % p\n",
        "\n",
        "    if denominator == 0:\n",
        "        return None  # Points are additive inverses\n",
        "\n",
        "    m = (numerator * mod_inverse(denominator, p)) % p\n",
        "    x3 = (m**2 - P[0] - Q[0]) % p\n",
        "    y3 = (m * (P[0] - x3) - P[1]) % p\n",
        "\n",
        "    return (x3, y3)\n",
        "\n",
        "def scalar_multiplication(k, P, a, p):\n",
        "    \"\"\"Multiply point P by scalar k on elliptic curve over F_p.\"\"\"\n",
        "    R = None\n",
        "    Q = P\n",
        "\n",
        "    while k:\n",
        "        if k & 1:\n",
        "            R = point_addition(R, Q, a, p) if R else Q\n",
        "        Q = point_addition(Q, Q, a, p)\n",
        "        k >>= 1\n",
        "\n",
        "    return R"
      ],
      "metadata": {
        "id": "iSUkwtppQSqY"
      },
      "execution_count": null,
      "outputs": []
    },
    {
      "cell_type": "code",
      "source": [
        "p = 67\n",
        "a = 2\n",
        "b = 3\n",
        "e1 = (2, 22)  # Bob's public point\n",
        "d = 4         # Bob's private key\n",
        "P = (24, 26)  # Plaintext point Alice wants to send\n",
        "r = 2         # Alice's random integer\n",
        "e2 = scalar_multiplication(d, e1, a, p) #e2 = d * e1\n",
        "\n",
        "# Step 1: Alice's encryption\n",
        "C1 = scalar_multiplication(r, e1, a, p)  # C1 = r * e1\n",
        "r_e2 = scalar_multiplication(r, e2, a, p)  # r * e2\n",
        "C2 = point_addition(P, r_e2, a, p)    # C2 = P + r * e2\n",
        "\n",
        "print(\"Ciphertext (C1, C2):\", C1, C2)\n",
        "\n",
        "# Step 2: Bob's decryption\n",
        "d_C1 = scalar_multiplication(d, C1, a, p)  # d * C1\n",
        "P_decrypted = point_addition(C2, (d_C1[0], -d_C1[1] % p), a, p) # C2 - (d*c1)\n",
        "\n",
        "print(\"Decrypted plaintext P:\", P_decrypted)\n"
      ],
      "metadata": {
        "id": "RWC549tos_Ld",
        "outputId": "51f5b1e0-a703-44c9-b56e-3efe1c476291",
        "colab": {
          "base_uri": "https://localhost:8080/"
        }
      },
      "execution_count": null,
      "outputs": [
        {
          "output_type": "stream",
          "name": "stdout",
          "text": [
            "Ciphertext (C1, C2): (35, 1) (21, 44)\n",
            "Decrypted plaintext P: (24, 26)\n"
          ]
        }
      ]
    },
    {
      "cell_type": "code",
      "source": [
        "print((691**347) % 941)"
      ],
      "metadata": {
        "colab": {
          "base_uri": "https://localhost:8080/"
        },
        "id": "Ysna7zMXoAsh",
        "outputId": "5b4bdaaf-936a-4ca2-8e7c-375a892295e1"
      },
      "execution_count": null,
      "outputs": [
        {
          "output_type": "stream",
          "name": "stdout",
          "text": [
            "470\n"
          ]
        }
      ]
    },
    {
      "cell_type": "code",
      "source": [
        "print((390**781)%941)"
      ],
      "metadata": {
        "colab": {
          "base_uri": "https://localhost:8080/"
        },
        "id": "bTadRWSFoEDe",
        "outputId": "f69bfee7-974f-4bfb-e2f6-f333688ab9b3"
      },
      "execution_count": null,
      "outputs": [
        {
          "output_type": "stream",
          "name": "stdout",
          "text": [
            "470\n"
          ]
        }
      ]
    },
    {
      "cell_type": "code",
      "source": [
        "print(627**347 %941)"
      ],
      "metadata": {
        "colab": {
          "base_uri": "https://localhost:8080/"
        },
        "id": "VBjjZVBkoUAe",
        "outputId": "c4c6f8c2-2073-44c7-c275-14bbf671eef4"
      },
      "execution_count": null,
      "outputs": [
        {
          "output_type": "stream",
          "name": "stdout",
          "text": [
            "390\n"
          ]
        }
      ]
    },
    {
      "cell_type": "code",
      "source": [],
      "metadata": {
        "id": "5H-ZsUhiodgm"
      },
      "execution_count": null,
      "outputs": []
    }
  ]
}