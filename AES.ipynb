{
  "nbformat": 4,
  "nbformat_minor": 0,
  "metadata": {
    "colab": {
      "provenance": []
    },
    "kernelspec": {
      "name": "python3",
      "display_name": "Python 3"
    },
    "language_info": {
      "name": "python"
    }
  },
  "cells": [
    {
      "cell_type": "markdown",
      "source": [
        "1. I have a main protocol of python programming\n",
        "\n",
        "\n",
        "Please using your own python programming to implement the sub-procedures of AES_Encryption, AES_Decryption, AES_Encryption_File, AES_Decryption_File to complete the program."
      ],
      "metadata": {
        "id": "oKfqVZMZpgz-"
      }
    },
    {
      "cell_type": "code",
      "source": [
        "import base64\n",
        "import os\n",
        "from cryptography.hazmat.primitives.ciphers import Cipher, algorithms, modes\n",
        "from cryptography.hazmat.backends import default_backend\n",
        "from cryptography.hazmat.primitives import padding"
      ],
      "metadata": {
        "id": "EWaEaMUKqACH"
      },
      "execution_count": null,
      "outputs": []
    },
    {
      "cell_type": "code",
      "source": [
        "#MODE - CBC\n",
        "\n",
        "def AES_Encryption(message, key):\n",
        "  iv = os.urandom(16)\n",
        "\n",
        "  cipher = Cipher(algorithms.AES(key), modes.CBC(iv), backend=default_backend())\n",
        "\n",
        "  padder = padding.PKCS7(algorithms.AES.block_size).padder()\n",
        "  padded_message = padder.update(message) + padder.finalize()\n",
        "\n",
        "  encryptor = cipher.encryptor()\n",
        "  enc_message = encryptor.update(padded_message) + encryptor.finalize()\n",
        "\n",
        "  return base64.b64encode(iv + enc_message)\n",
        "\n",
        "def AES_Decryption(enc_message, key):\n",
        "  enc_message = base64.b64decode(enc_message)\n",
        "\n",
        "  iv = enc_message[:16]\n",
        "  message = enc_message[16:]\n",
        "\n",
        "  cipher = Cipher(algorithms.AES(key), modes.CBC(iv), backend=default_backend())\n",
        "\n",
        "  decryptor = cipher.decryptor()\n",
        "  dec_padded_message = decryptor.update(message) + decryptor.finalize()\n",
        "\n",
        "  unpadder = padding.PKCS7(algorithms.AES.block_size).unpadder()\n",
        "  dec_message = unpadder.update(dec_padded_message) + unpadder.finalize()\n",
        "\n",
        "  return dec_message\n",
        "\n",
        "\n",
        "def AES_Encryption_File(file, key):\n",
        "  with open(file, 'rb') as f:\n",
        "    file_data = f.read()\n",
        "\n",
        "  iv = os.urandom(16)\n",
        "\n",
        "  cipher = Cipher(algorithms.AES(key), modes.CBC(iv), backend=default_backend)\n",
        "\n",
        "  padder = padding.PKCS7(algorithms.AES.block_size).padder()\n",
        "  padded_message = padder.update(file_data) + padder.finalize()\n",
        "\n",
        "  encryptor = cipher.encryptor()\n",
        "  enc_message = encryptor.update(padded_message) + encryptor.finalize()\n",
        "\n",
        "  enc_file_path = file + '.enc'\n",
        "  with open(enc_file_path, 'wb') as enc_file:\n",
        "    enc_file.write(iv + enc_message)\n",
        "  return enc_file_path\n",
        "\n",
        "def AES_Decryption_File(enc_file_path, key):\n",
        "  with open(enc_file_path, 'rb') as enc_file:\n",
        "    enc_message = enc_file.read()\n",
        "\n",
        "  iv = enc_message[:16]\n",
        "  message = enc_message[16:]\n",
        "\n",
        "  cipher = Cipher(algorithms.AES(key), modes.CBC(iv), backend=default_backend())\n",
        "\n",
        "  decryptor = cipher.decryptor()\n",
        "  dec_padded_message = decryptor.update(message) + decryptor.finalize()\n",
        "\n",
        "  unpadder = padding.PKCS7(algorithms.AES.block_size).unpadder()\n",
        "  dec_message = unpadder.update(dec_padded_message) + unpadder.finalize()\n",
        "\n",
        "  dec_file_path = enc_file_path.replace('.enc', '_decrypted.txt')\n",
        "  with open(dec_file_path, 'wb') as dec_file:\n",
        "    dec_file.write(dec_message)\n",
        "  return dec_file"
      ],
      "metadata": {
        "id": "nqjcvJcSpwHg"
      },
      "execution_count": null,
      "outputs": []
    },
    {
      "cell_type": "code",
      "source": [
        "#MODE - CTV\n",
        "def AES_Encryption(message, key):\n",
        "  iv = os.urandom(16)\n",
        "\n",
        "  cipher = Cipher(algorithms.AES(key), modes.CTR(iv), backend=default_backend())\n",
        "\n",
        "  encryptor = cipher.encryptor()\n",
        "  enc_message = encryptor.update(message) + encryptor.finalize()\n",
        "\n",
        "  return base64.b64encode(iv + enc_message)\n",
        "\n",
        "def AES_Decryption(enc_message, key):\n",
        "  enc_message = base64.b64decode(enc_message)\n",
        "\n",
        "  iv = enc_message[:16]\n",
        "  message = enc_message[16:]\n",
        "\n",
        "  cipher = Cipher(algorithms.AES(key), modes.CTR(iv), backend=default_backend())\n",
        "\n",
        "  decryptor = cipher.decryptor()\n",
        "  dec_message = decryptor.update(message) + decryptor.finalize()\n",
        "\n",
        "  return dec_message\n",
        "\n",
        "\n",
        "def AES_Encryption_File(file, key):\n",
        "  with open(file, 'rb') as f:\n",
        "    file_data = f.read()\n",
        "\n",
        "  iv = os.urandom(16)\n",
        "\n",
        "  cipher = Cipher(algorithms.AES(key), modes.CTR(iv), backend=default_backend)\n",
        "\n",
        "  encryptor = cipher.encryptor()\n",
        "  enc_message = encryptor.update(file_data) + encryptor.finalize()\n",
        "\n",
        "  enc_file_path = file + '.enc'\n",
        "  with open(enc_file_path, 'wb') as enc_file:\n",
        "    enc_file.write(iv + enc_message)\n",
        "  return enc_file_path\n",
        "\n",
        "def AES_Decryption_File(enc_file_path, key):\n",
        "  with open(enc_file_path, 'rb') as enc_file:\n",
        "    enc_message = enc_file.read()\n",
        "\n",
        "  iv = enc_message[:16]\n",
        "  message = enc_message[16:]\n",
        "\n",
        "  cipher = Cipher(algorithms.AES(key), modes.CTR(iv), backend=default_backend())\n",
        "\n",
        "  decryptor = cipher.decryptor()\n",
        "  dec_message = decryptor.update(message) + decryptor.finalize()\n",
        "\n",
        "\n",
        "  dec_file_path = enc_file_path.replace('.enc', '_decrypted.txt')\n",
        "  with open(dec_file_path, 'wb') as dec_file:\n",
        "    dec_file.write(dec_message)\n",
        "  return dec_file"
      ],
      "metadata": {
        "id": "sZjIN2kEq5W8"
      },
      "execution_count": null,
      "outputs": []
    },
    {
      "cell_type": "code",
      "execution_count": null,
      "metadata": {
        "colab": {
          "base_uri": "https://localhost:8080/"
        },
        "id": "-vhzEObHpU3U",
        "outputId": "cc237aa4-8bcd-4d35-ec32-55611d6d1175"
      },
      "outputs": [
        {
          "output_type": "stream",
          "name": "stdout",
          "text": [
            "b'SGVsbG8gV29ybGQ='\n",
            "b'YmxZ2PXz0mAV/AbU3SxCDR+Y286RU4E0wltHNrVaPVjhYQHaC7ZXiFlCglb0UBoj'\n",
            "True\n",
            "b'Hello World'\n",
            "hello.txt.enc\n",
            "b'Hey my name is Logan!'\n"
          ]
        }
      ],
      "source": [
        "if __name__ == \"__main__\":\n",
        "  key = b'1234sfsfdsafasdf'\n",
        "  plaintext = b'Hello World'\n",
        "  plaintext = base64.b64encode(plaintext)\n",
        "  print(plaintext)\n",
        "\n",
        "  enc_message = AES_Encryption(plaintext, key)\n",
        "  print(enc_message)\n",
        "  original_message = AES_Decryption(enc_message, key)\n",
        "  print(plaintext == original_message)\n",
        "  print(base64.b64decode(original_message))\n",
        "\n",
        "  enc_file  = AES_Encryption_File('hello.txt', key)\n",
        "  print(enc_file)\n",
        "\n",
        "  dec_file = AES_Decryption_File(enc_file, key)\n",
        "\n",
        "  with open('hello.txt_decrypted.txt', 'rb') as dec_file:\n",
        "    dec_message = dec_file.read()\n",
        "  print(dec_message)"
      ]
    },
    {
      "cell_type": "markdown",
      "source": [
        "2.  Compare the permutations in DES and AES. Why do we need expansion and compression permutations in DES, but not in AES?\n",
        "\n",
        "-- AES does not require expansion and compression permutations because it does not use the Feistel structure, it processes the entire block of 128 bits at once. All transformations are performed uniformly on the entire block.\n",
        "\n",
        "--DES does use the Feistel structure, so it needs to match the size of the data with the subkey size. This requires exansion and compression of the data to accomodate."
      ],
      "metadata": {
        "id": "CBWb_4U4pe5a"
      }
    },
    {
      "cell_type": "markdown",
      "source": [
        "3. What is the stream cipher? What is the block cipher?  Why OFB/CFB are considered as the stream cipher?\n",
        "\n",
        "--Stream Cipher encryptes data one bit or one byte at a time. This creates pseudo-random key bits, which are XOR'd wih the message to produce the ciphertext. This cipher is useful for real-time encryption. RC4 is a well-known stream cipher.\n",
        "\n",
        "--Block cipher processs data in fixed-size chunks or blocks rather than individual bits/bytes. The same key is used but each block is tranformed multiple times using substitution, permutation, and mixing operations. AES and DES are common block cipher methods.\n",
        "\n",
        "--OFB(Output Feedback)/CFB(Cipher Feedback) modes use block ciphers to generate a keystream, which is XOR'd with the plaintext to produce ciphertext. Dispite using block ciphers, the way OFB and CFB generate keystreams and XOR them with the plaintext makes them functionally similar to stream ciphers."
      ],
      "metadata": {
        "id": "ryasNgin1byC"
      }
    },
    {
      "cell_type": "markdown",
      "source": [
        "4. Based on your study of ECB, CBC, CFB, OFB, CTR, Please choose only one mode operation that you are intereted in to write the detailed algorithm accordingly as\n",
        "\n",
        "\n",
        "CBC\n",
        "\n",
        "Encryption: The algorithm inputs the plaintext, key, IV, and block cipher. The plaintext is divided into fixed-size blocks, and padding is added if necessary. The first block is XOR'd with the IV, then encrypted to produce the first ciphertext block C1. For each subsequent block, XOR the plaintext block Pi with the previous ciphertext block Ci-1, then encrypt to produce Ci. This continues for all blocks, and it outputs the ciphertext.\n",
        "\n",
        "\n",
        "Decryption: The algorithm inputs the ciphertext, key, IV, and block cipher. The first ciphertext block is decrypted, then XOR'd with the IV to recover the first plaintext block P1. For each subsequent block, decrypt Ci, then XOR with the previous ciphertext block Ci-1 to recover Pi. The process continues for all blocks, and it outputs the plaintext"
      ],
      "metadata": {
        "id": "0mOcMT3U1dAC"
      }
    }
  ]
}