{
  "nbformat": 4,
  "nbformat_minor": 0,
  "metadata": {
    "colab": {
      "provenance": []
    },
    "kernelspec": {
      "name": "python3",
      "display_name": "Python 3"
    },
    "language_info": {
      "name": "python"
    }
  },
  "cells": [
    {
      "cell_type": "code",
      "source": [
        "#!pip install pycryptodome"
      ],
      "metadata": {
        "colab": {
          "base_uri": "https://localhost:8080/"
        },
        "id": "RAH5bhyQPt7B",
        "outputId": "a01c4e39-d562-4df9-aa8a-86c506333863"
      },
      "execution_count": null,
      "outputs": [
        {
          "output_type": "stream",
          "name": "stdout",
          "text": [
            "Collecting pycryptodome\n",
            "  Downloading pycryptodome-3.21.0-cp36-abi3-manylinux_2_17_x86_64.manylinux2014_x86_64.whl.metadata (3.4 kB)\n",
            "Downloading pycryptodome-3.21.0-cp36-abi3-manylinux_2_17_x86_64.manylinux2014_x86_64.whl (2.3 MB)\n",
            "\u001b[2K   \u001b[90m━━━━━━━━━━━━━━━━━━━━━━━━━━━━━━━━━━━━━━━━\u001b[0m \u001b[32m2.3/2.3 MB\u001b[0m \u001b[31m21.9 MB/s\u001b[0m eta \u001b[36m0:00:00\u001b[0m\n",
            "\u001b[?25hInstalling collected packages: pycryptodome\n",
            "Successfully installed pycryptodome-3.21.0\n"
          ]
        }
      ]
    },
    {
      "cell_type": "markdown",
      "source": [
        " Using the RSA_lib.py and AES library, please design the hybrid encryption following the protocol:\n",
        "\n",
        "  s1. Bob generates the public key/secret key using RSA."
      ],
      "metadata": {
        "id": "909SKXcrgfUA"
      }
    },
    {
      "cell_type": "code",
      "source": [
        "from Crypto.PublicKey import RSA\n",
        "from Crypto.Cipher import PKCS1_OAEP, AES\n",
        "from Crypto.Random import get_random_bytes\n",
        "import base64\n",
        "\n",
        "def aes_encrypt(message, session_key):\n",
        "    cipher_aes = AES.new(session_key, AES.MODE_GCM)\n",
        "    nonce = cipher_aes.nonce\n",
        "    ciphertext, tag = cipher_aes.encrypt_and_digest(message.encode())\n",
        "    return nonce, ciphertext, tag\n",
        "\n",
        "def aes_decrypt(nonce, ciphertext, tag, session_key):\n",
        "    cipher_aes = AES.new(session_key, AES.MODE_GCM, nonce=nonce)\n",
        "    decrypted_message = cipher_aes.decrypt_and_verify(ciphertext, tag)\n",
        "    return decrypted_message.decode()\n"
      ],
      "metadata": {
        "id": "siSYM7p8i-B0"
      },
      "execution_count": null,
      "outputs": []
    },
    {
      "cell_type": "code",
      "source": [
        "keyPair = RSA.generate(bits=1024)\n",
        "public_key = keyPair.publickey()\n",
        "print(f\"Public key: (n={hex(keyPair.n)}, e={hex(keyPair.e)}))\")\n",
        "print(f\"Private key: (n={hex(keyPair.n)}, d={hex(keyPair.d)}))\")"
      ],
      "metadata": {
        "colab": {
          "base_uri": "https://localhost:8080/"
        },
        "id": "mLMoM4x-gfDi",
        "outputId": "fb596968-468d-46f7-e819-9956efdd68e1"
      },
      "execution_count": null,
      "outputs": [
        {
          "output_type": "stream",
          "name": "stdout",
          "text": [
            "Public key: (n=0xb52175073bd10e444c9331aa835284a7ade5b26123a2d03a63d943ec84e41c567f90abf67e3b54984a667d4901f1577edc18826c32438f78ce722b66dbef9d200ce1ffa1a3f827178f6be9bfe69bd67d13cad079fac90253223f59dbab49c080d6f8485a3ac7c8f88eef8c448deca7b9a83813450b32ab1eb0df17bf03298e2b, e=0x10001))\n",
            "Private key: (n=0xb52175073bd10e444c9331aa835284a7ade5b26123a2d03a63d943ec84e41c567f90abf67e3b54984a667d4901f1577edc18826c32438f78ce722b66dbef9d200ce1ffa1a3f827178f6be9bfe69bd67d13cad079fac90253223f59dbab49c080d6f8485a3ac7c8f88eef8c448deca7b9a83813450b32ab1eb0df17bf03298e2b, d=0x4ccdd05f2e30b493fc19b8c84cc1ae18f681478f83c4d8a169bab4353e6f061fc77258f8945e24137a0e2b61cc691713667b1e1288330da07429afd855ba2cd80ae74cd3400f5c8186792162fb173c4f29200262afcf31d6cad4fe7a87b6acff7bba060db990a9dff625219c949e300bf1a15ef35a207ecf0efac0ea50e307d))\n"
          ]
        }
      ]
    },
    {
      "cell_type": "markdown",
      "source": [
        "s2.     \n",
        "\n",
        "a.Alice generates the session key and uses Bob's public key to encrypt the session key, then she sends the ciphertext to Bob.\n",
        "      \n",
        "b. Alice also uses the session key to encrypt the first message: \"Hello, Bob\" using the AES mechanism."
      ],
      "metadata": {
        "id": "c5YWcRZzgkCW"
      }
    },
    {
      "cell_type": "code",
      "execution_count": null,
      "metadata": {
        "colab": {
          "base_uri": "https://localhost:8080/"
        },
        "id": "_7cift7-gahQ",
        "outputId": "ee1570ea-0f11-45b1-e954-fbc2facecaa9"
      },
      "outputs": [
        {
          "output_type": "stream",
          "name": "stdout",
          "text": [
            "Encrypted session key: VhqbYMsWMtM7rfRpi3iGoEoI4JHVEdUSKjDv7w7InmlAPh9sNSGESJRxITo/Bj0wK7VPZX9qAC9pRiEPI7PlLdM9RX/1f1z2Oq8R6tW3/WM5G9YdLLp5rQV1KzIHhS0puhjjsjZm4TT4Ei4vVB/TQCYLu7F8DEoIMyjhzAS4QhI=\n",
            "AES Encrypted message: aPZ6kKFK6ITe6A==\n"
          ]
        }
      ],
      "source": [
        "session_key = get_random_bytes(16)\n",
        "cipher_rsa = PKCS1_OAEP.new(public_key)\n",
        "encrypted_session_key = cipher_rsa.encrypt(session_key)\n",
        "print(\"Encrypted session key:\", base64.b64encode(encrypted_session_key).decode())\n",
        "\n",
        "nonce, ciphertext, tag = aes_encrypt(\"Hello, Bob\", session_key)\n",
        "print(\"AES Encrypted message:\", base64.b64encode(ciphertext).decode())"
      ]
    },
    {
      "cell_type": "markdown",
      "source": [
        "        \n",
        "s3.\n",
        "\n",
        "a. Bob uses the secret key to decrypt the ciphertext and obtain the session key.\n",
        "\n",
        "b. Bob uses the decrypted session key to decrypt the first message and receives \"Hello, Bob\".\n",
        "\n",
        "\n"
      ],
      "metadata": {
        "id": "kr7-GcTjgzUd"
      }
    },
    {
      "cell_type": "code",
      "source": [
        "cipher_rsa = PKCS1_OAEP.new(keyPair)\n",
        "decrypted_session_key = cipher_rsa.decrypt(encrypted_session_key)\n",
        "print(\"Decrypted session key matches:\", decrypted_session_key == session_key)\n",
        "\n",
        "decrypted_message = aes_decrypt(nonce, ciphertext, tag, decrypted_session_key)\n",
        "print(\"Decrypted message:\", decrypted_message)"
      ],
      "metadata": {
        "colab": {
          "base_uri": "https://localhost:8080/"
        },
        "id": "Ziw6Y5mEg3Kh",
        "outputId": "0071985f-ac7c-4cd1-d8b2-9c7b0c356a88"
      },
      "execution_count": null,
      "outputs": [
        {
          "output_type": "stream",
          "name": "stdout",
          "text": [
            "Decrypted session key matches: True\n",
            "Decrypted message: Hello, Bob\n"
          ]
        }
      ]
    },
    {
      "cell_type": "markdown",
      "source": [
        "s4. Bob and Alice will communicate together using the session key."
      ],
      "metadata": {
        "id": "ny_9BwcJg3VP"
      }
    },
    {
      "cell_type": "code",
      "source": [
        "for i in range(5):\n",
        "    message = f\"Message {i+1} from Bob\"\n",
        "    nonce, ciphertext, tag = aes_encrypt(message, session_key)\n",
        "    print(f\"Round {i+1}: Bob sends encrypted message:\", base64.b64encode(ciphertext).decode())\n",
        "\n",
        "    decrypted_message = aes_decrypt(nonce, ciphertext, tag, session_key)\n",
        "    print(f\"Round {i+1}: Alice decrypts the message and receives:\", decrypted_message)"
      ],
      "metadata": {
        "colab": {
          "base_uri": "https://localhost:8080/"
        },
        "id": "xCuW31Nag80r",
        "outputId": "0c43f668-e5dd-4d75-ca37-728e794b6b7f"
      },
      "execution_count": null,
      "outputs": [
        {
          "output_type": "stream",
          "name": "stdout",
          "text": [
            "Round 1: Bob sends encrypted message: cvuv6d/bEfVIXbPqD9eY5zfB\n",
            "Round 1: Alice decrypts the message and receives: Message 1 from Bob\n",
            "Round 2: Bob sends encrypted message: BsWXU7Pbr4LAnQC+7FmxYH2p\n",
            "Round 2: Alice decrypts the message and receives: Message 2 from Bob\n",
            "Round 3: Bob sends encrypted message: SFF1hQYu8CPEqnsoAZHYsVQu\n",
            "Round 3: Alice decrypts the message and receives: Message 3 from Bob\n",
            "Round 4: Bob sends encrypted message: FVKscbBor04nbJwGPgaFY78Z\n",
            "Round 4: Alice decrypts the message and receives: Message 4 from Bob\n",
            "Round 5: Bob sends encrypted message: sSnv0zR/35agWwNSXQWTwE/O\n",
            "Round 5: Alice decrypts the message and receives: Message 5 from Bob\n"
          ]
        }
      ]
    },
    {
      "cell_type": "markdown",
      "source": [
        "s5. After five rounds, Alice will generate the new session key and uses the same protocol to send Bob the new session key."
      ],
      "metadata": {
        "id": "7MKP0e1kg9IH"
      }
    },
    {
      "cell_type": "code",
      "source": [
        "new_session_key = get_random_bytes(16)\n",
        "encrypted_new_session_key = cipher_rsa.encrypt(new_session_key)\n",
        "print(\"New session key encrypted and sent to Bob:\", base64.b64encode(encrypted_new_session_key).decode())\n",
        "\n",
        "decrypted_new_session_key = cipher_rsa.decrypt(encrypted_new_session_key)\n",
        "print(\"Bob decrypts the new session key. Matches new session key:\", decrypted_new_session_key == new_session_key)"
      ],
      "metadata": {
        "colab": {
          "base_uri": "https://localhost:8080/"
        },
        "id": "YIDzsKAAm6nR",
        "outputId": "1d54b8cf-60ae-4abf-828c-fc3c08e7d394"
      },
      "execution_count": null,
      "outputs": [
        {
          "output_type": "stream",
          "name": "stdout",
          "text": [
            "New session key encrypted and sent to Bob: aeZteoJtKVS8IThKuxjXUvTMtWYhFifrCYlgkpeeZeO54hsfQLnbUAc4ZD1xQbmHbI6td4hwwlNj6z3JFF02wtbVg7LfGYUOIwniSUMd5ySSm84ISa29P3aYATl2eB2bbnrIclyVxDCo3+AMcIlLIURO7ZV18ARNUTwJxBDF30o=\n",
            "Bob decrypts the new session key. Matches new session key: True\n"
          ]
        }
      ]
    },
    {
      "cell_type": "code",
      "source": [
        "message = f\"Hey Alice, this is Bob with a new key!\"\n",
        "nonce, ciphertext, tag = aes_encrypt(message, new_session_key)\n",
        "print(f\"Bob sends encrypted message:\", base64.b64encode(ciphertext).decode())\n",
        "\n",
        "decrypted_message = aes_decrypt(nonce, ciphertext, tag, new_session_key)\n",
        "print(f\"Alice decrypts the message and receives:\", decrypted_message)"
      ],
      "metadata": {
        "colab": {
          "base_uri": "https://localhost:8080/"
        },
        "id": "pYbYsok8QIMF",
        "outputId": "6c4e88d1-34ef-4219-d69c-8b735724635f"
      },
      "execution_count": null,
      "outputs": [
        {
          "output_type": "stream",
          "name": "stdout",
          "text": [
            "Bob sends encrypted message: Z7sTwIZo7WHGSQ00g92+fnNEKAMUNABFPI59fAz/O2CP3Ck9K70=\n",
            "Alice decrypts the message and receives: Hey Alice, this is Bob with a new key!\n"
          ]
        }
      ]
    }
  ]
}